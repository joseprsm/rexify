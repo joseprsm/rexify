{
 "cells": [
  {
   "cell_type": "markdown",
   "id": "4d7be883-9e12-4f8c-b3b0-6f0505065da9",
   "metadata": {},
   "source": [
    "# Using the pre-built pipeline"
   ]
  },
  {
   "cell_type": "code",
   "execution_count": null,
   "id": "f5ba48c3-1176-4a47-a146-c45e20fb6645",
   "metadata": {},
   "outputs": [],
   "source": [
    "!pip install rexify"
   ]
  },
  {
   "cell_type": "code",
   "execution_count": null,
   "id": "d0e1f889-7ba1-458c-bbee-240cf0ad3b19",
   "metadata": {},
   "outputs": [],
   "source": [
    "!rexify pipeline create --args"
   ]
  }
 ],
 "metadata": {
  "kernelspec": {
   "display_name": "Python 3 (ipykernel)",
   "language": "python",
   "name": "python3"
  },
  "language_info": {
   "codemirror_mode": {
    "name": "ipython",
    "version": 3
   },
   "file_extension": ".py",
   "mimetype": "text/x-python",
   "name": "python",
   "nbconvert_exporter": "python",
   "pygments_lexer": "ipython3",
   "version": "3.9.10"
  }
 },
 "nbformat": 4,
 "nbformat_minor": 5
}
