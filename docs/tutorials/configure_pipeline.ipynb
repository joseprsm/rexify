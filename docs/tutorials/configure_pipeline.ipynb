{
 "cells": [
  {
   "cell_type": "markdown",
   "id": "8e30dc1e-0237-4a9c-94a7-f3495a608ab7",
   "metadata": {},
   "source": [
    "# Configuring your own pipeline"
   ]
  }
 ],
 "metadata": {
  "kernelspec": {
   "display_name": "Python 3 (ipykernel)",
   "language": "python",
   "name": "python3"
  },
  "language_info": {
   "codemirror_mode": {
    "name": "ipython",
    "version": 3
   },
   "file_extension": ".py",
   "mimetype": "text/x-python",
   "name": "python",
   "nbconvert_exporter": "python",
   "pygments_lexer": "ipython3",
   "version": "3.9.10"
  }
 },
 "nbformat": 4,
 "nbformat_minor": 5
}
